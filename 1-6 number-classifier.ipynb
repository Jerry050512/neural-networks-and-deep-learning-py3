{
 "cells": [
  {
   "cell_type": "markdown",
   "metadata": {},
   "source": [
    "## 实现分类数字的神经网络"
   ]
  },
  {
   "cell_type": "markdown",
   "metadata": {},
   "source": [
    "### 加载MNIST数据集\n",
    "\n",
    "运行以下命令来加载："
   ]
  },
  {
   "cell_type": "code",
   "execution_count": 1,
   "metadata": {},
   "outputs": [],
   "source": [
    "from src.mnist_loader import load_data_wrapper\n",
    "training_data, validation_data, test_data = load_data_wrapper()"
   ]
  },
  {
   "cell_type": "markdown",
   "metadata": {},
   "source": [
    "### 建立网络\n",
    "\n",
    "这里用30个隐藏神经元的全连接网络，最后的输出层有10个节点，每个节点对应一个数字。"
   ]
  },
  {
   "cell_type": "code",
   "execution_count": 2,
   "metadata": {},
   "outputs": [],
   "source": [
    "from src.network import Network\n",
    "net = Network([784, 30, 10])"
   ]
  },
  {
   "cell_type": "markdown",
   "metadata": {},
   "source": [
    "### 训练模型"
   ]
  },
  {
   "cell_type": "code",
   "execution_count": 3,
   "metadata": {},
   "outputs": [
    {
     "name": "stdout",
     "output_type": "stream",
     "text": [
      "Epoch 0: 9106 / 10000\n",
      "Epoch 1: 9202 / 10000\n",
      "Epoch 2: 9274 / 10000\n",
      "Epoch 3: 9326 / 10000\n",
      "Epoch 4: 9364 / 10000\n",
      "Epoch 5: 9408 / 10000\n",
      "Epoch 6: 9385 / 10000\n",
      "Epoch 7: 9401 / 10000\n",
      "Epoch 8: 9439 / 10000\n",
      "Epoch 9: 9437 / 10000\n",
      "Epoch 10: 9437 / 10000\n",
      "Epoch 11: 9457 / 10000\n",
      "Epoch 12: 9450 / 10000\n",
      "Epoch 13: 9451 / 10000\n",
      "Epoch 14: 9470 / 10000\n",
      "Epoch 15: 9494 / 10000\n",
      "Epoch 16: 9461 / 10000\n",
      "Epoch 17: 9465 / 10000\n",
      "Epoch 18: 9470 / 10000\n",
      "Epoch 19: 9487 / 10000\n",
      "Epoch 20: 9486 / 10000\n",
      "Epoch 21: 9485 / 10000\n",
      "Epoch 22: 9458 / 10000\n",
      "Epoch 23: 9498 / 10000\n",
      "Epoch 24: 9491 / 10000\n",
      "Epoch 25: 9480 / 10000\n",
      "Epoch 26: 9497 / 10000\n",
      "Epoch 27: 9491 / 10000\n",
      "Epoch 28: 9489 / 10000\n",
      "Epoch 29: 9498 / 10000\n"
     ]
    }
   ],
   "source": [
    "net.SGD(training_data, 30, 10, 3.0, test_data=test_data)"
   ]
  }
 ],
 "metadata": {
  "kernelspec": {
   "display_name": "vpteam",
   "language": "python",
   "name": "python3"
  },
  "language_info": {
   "codemirror_mode": {
    "name": "ipython",
    "version": 3
   },
   "file_extension": ".py",
   "mimetype": "text/x-python",
   "name": "python",
   "nbconvert_exporter": "python",
   "pygments_lexer": "ipython3",
   "version": "3.8.19"
  }
 },
 "nbformat": 4,
 "nbformat_minor": 2
}
